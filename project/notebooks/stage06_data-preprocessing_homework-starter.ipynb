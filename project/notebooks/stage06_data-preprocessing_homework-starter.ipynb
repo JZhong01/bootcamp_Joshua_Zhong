{
 "cells": [
  {
   "cell_type": "markdown",
   "metadata": {},
   "source": [
    "# Setup: Generate Sample Dataset\n",
    "\n",
    "This cell creates the required folder structure (`data/raw/` and `data/processed/`) relative to the notebook, and generates the sample CSV dataset with missing values. \n",
    "This ensures the dataset is ready for cleaning functions and saves it to `data/raw/sample_data.csv`."
   ]
  },
  {
   "cell_type": "code",
   "execution_count": 1,
   "metadata": {},
   "outputs": [
    {
     "name": "stdout",
     "output_type": "stream",
     "text": [
      "File already exists at ../data/raw/sample_data.csv. Skipping CSV creation to avoid overwrite.\n"
     ]
    }
   ],
   "source": [
    "import os\n",
    "import pandas as pd\n",
    "import numpy as np\n",
    "\n",
    "# Define folder paths relative to this notebook\n",
    "raw_dir = '../data/raw'\n",
    "processed_dir = '../data/processed'\n",
    "\n",
    "# Create folders if they don't exist\n",
    "os.makedirs(raw_dir, exist_ok=True)\n",
    "os.makedirs(processed_dir, exist_ok=True)\n",
    "\n",
    "# Define the sample data\n",
    "data = {\n",
    "    'age': [34, 45, 29, 50, 38, np.nan, 41],\n",
    "    'income': [55000, np.nan, 42000, 58000, np.nan, np.nan, 49000],\n",
    "    'score': [0.82, 0.91, np.nan, 0.76, 0.88, 0.65, 0.79],\n",
    "    'zipcode': ['90210', '10001', '60614', '94103', '73301', '12345', '94105'],\n",
    "    'city': ['Beverly', 'New York', 'Chicago', 'SF', 'Austin', 'Unknown', 'San Francisco'],\n",
    "    'extra_data': [np.nan, 42, np.nan, np.nan, np.nan, 5, np.nan]\n",
    "}\n",
    "\n",
    "# Create DataFrame\n",
    "df = pd.DataFrame(data)\n",
    "\n",
    "# Save to CSV in raw data folder\n",
    "csv_path = os.path.join(raw_dir, 'sample_data.csv')\n",
    "if not os.path.exists(csv_path):\n",
    "    df.to_csv(csv_path, index=False)\n",
    "    print(f'Sample dataset created and saved to {csv_path}')\n",
    "else:\n",
    "    print(f'File already exists at {csv_path}. Skipping CSV creation to avoid overwrite.')\n"
   ]
  },
  {
   "cell_type": "markdown",
   "metadata": {},
   "source": [
    "# Homework— Stage 6: Data Preprocessing\n",
    "In this notebook, we take sample data, preprocess it, then save it to the processed data folder"
   ]
  },
  {
   "cell_type": "code",
   "execution_count": 1,
   "metadata": {},
   "outputs": [],
   "source": [
    "import pandas as pd, sys, os\n",
    "\n",
    "project_root = os.path.abspath(os.path.join(os.getcwd(), \"..\"))\n",
    "sys.path.append(project_root)\n",
    "from src import cleaning\n"
   ]
  },
  {
   "cell_type": "markdown",
   "metadata": {},
   "source": [
    "## Load Raw Dataset\n",
    "Data is read in and examined"
   ]
  },
  {
   "cell_type": "code",
   "execution_count": 2,
   "metadata": {},
   "outputs": [
    {
     "data": {
      "text/html": [
       "<div>\n",
       "<style scoped>\n",
       "    .dataframe tbody tr th:only-of-type {\n",
       "        vertical-align: middle;\n",
       "    }\n",
       "\n",
       "    .dataframe tbody tr th {\n",
       "        vertical-align: top;\n",
       "    }\n",
       "\n",
       "    .dataframe thead th {\n",
       "        text-align: right;\n",
       "    }\n",
       "</style>\n",
       "<table border=\"1\" class=\"dataframe\">\n",
       "  <thead>\n",
       "    <tr style=\"text-align: right;\">\n",
       "      <th></th>\n",
       "      <th>age</th>\n",
       "      <th>income</th>\n",
       "      <th>score</th>\n",
       "      <th>zipcode</th>\n",
       "      <th>city</th>\n",
       "      <th>extra_data</th>\n",
       "    </tr>\n",
       "  </thead>\n",
       "  <tbody>\n",
       "    <tr>\n",
       "      <th>0</th>\n",
       "      <td>34.0</td>\n",
       "      <td>55000.0</td>\n",
       "      <td>0.82</td>\n",
       "      <td>90210</td>\n",
       "      <td>Beverly</td>\n",
       "      <td>NaN</td>\n",
       "    </tr>\n",
       "    <tr>\n",
       "      <th>1</th>\n",
       "      <td>45.0</td>\n",
       "      <td>NaN</td>\n",
       "      <td>0.91</td>\n",
       "      <td>10001</td>\n",
       "      <td>New York</td>\n",
       "      <td>42.0</td>\n",
       "    </tr>\n",
       "    <tr>\n",
       "      <th>2</th>\n",
       "      <td>29.0</td>\n",
       "      <td>42000.0</td>\n",
       "      <td>NaN</td>\n",
       "      <td>60614</td>\n",
       "      <td>Chicago</td>\n",
       "      <td>NaN</td>\n",
       "    </tr>\n",
       "    <tr>\n",
       "      <th>3</th>\n",
       "      <td>50.0</td>\n",
       "      <td>58000.0</td>\n",
       "      <td>0.76</td>\n",
       "      <td>94103</td>\n",
       "      <td>SF</td>\n",
       "      <td>NaN</td>\n",
       "    </tr>\n",
       "    <tr>\n",
       "      <th>4</th>\n",
       "      <td>38.0</td>\n",
       "      <td>NaN</td>\n",
       "      <td>0.88</td>\n",
       "      <td>73301</td>\n",
       "      <td>Austin</td>\n",
       "      <td>NaN</td>\n",
       "    </tr>\n",
       "  </tbody>\n",
       "</table>\n",
       "</div>"
      ],
      "text/plain": [
       "    age   income  score  zipcode      city  extra_data\n",
       "0  34.0  55000.0   0.82    90210   Beverly         NaN\n",
       "1  45.0      NaN   0.91    10001  New York        42.0\n",
       "2  29.0  42000.0    NaN    60614   Chicago         NaN\n",
       "3  50.0  58000.0   0.76    94103        SF         NaN\n",
       "4  38.0      NaN   0.88    73301    Austin         NaN"
      ]
     },
     "execution_count": 2,
     "metadata": {},
     "output_type": "execute_result"
    }
   ],
   "source": [
    "df = pd.read_csv('../data/raw/sample_data.csv')\n",
    "df.head()"
   ]
  },
  {
   "cell_type": "markdown",
   "metadata": {},
   "source": [
    "## Apply Cleaning Functions and Comparing data\n",
    "\n",
    "Now we utilize 3 functions from our src/cleaning.py document. \n",
    "- fill_missing_median: replaces NAs in a numeric variable with the median of all non-NAs\n",
    "- drop_missing: drops rows with NA counts surpassing an amount set by the user\n",
    "- normalize_data: standardize the data in the variable columns passed in by the user, prints error if non-numeric column is passed"
   ]
  },
  {
   "cell_type": "code",
   "execution_count": 13,
   "metadata": {},
   "outputs": [
    {
     "name": "stdout",
     "output_type": "stream",
     "text": [
      "    age   income  score  zipcode           city  extra_data\n",
      "0  34.0  55000.0  0.820    90210        Beverly        23.5\n",
      "1  45.0  52000.0  0.910    10001       New York        42.0\n",
      "2  29.0  42000.0  0.805    60614        Chicago        23.5\n",
      "3  50.0  58000.0  0.760    94103             SF        23.5\n",
      "4  38.0  52000.0  0.880    73301         Austin        23.5\n",
      "5  39.5  52000.0  0.650    12345        Unknown         5.0\n",
      "6  41.0  49000.0  0.790    94105  San Francisco        23.5\n",
      "    age   income  score  zipcode           city  extra_data\n",
      "0  34.0  55000.0   0.82    90210        Beverly         NaN\n",
      "1  45.0      NaN   0.91    10001       New York        42.0\n",
      "3  50.0  58000.0   0.76    94103             SF         NaN\n",
      "6  41.0  49000.0   0.79    94105  San Francisco         NaN\n",
      "        age    income  score  zipcode           city  extra_data\n",
      "0 -0.797325  0.653197   0.82    90210        Beverly         NaN\n",
      "1  0.797325       NaN   0.91    10001       New York        42.0\n",
      "2 -1.522165 -1.469694    NaN    60614        Chicago         NaN\n",
      "3  1.522165  1.143095   0.76    94103             SF         NaN\n",
      "4 -0.217452       NaN   0.88    73301         Austin         NaN\n",
      "5       NaN       NaN   0.65    12345        Unknown         5.0\n",
      "6  0.217452 -0.326599   0.79    94105  San Francisco         NaN\n",
      "    age   income  score  zipcode           city  extra_data\n",
      "0  34.0  55000.0   0.82    90210        Beverly         NaN\n",
      "1  45.0      NaN   0.91    10001       New York        42.0\n",
      "2  29.0  42000.0    NaN    60614        Chicago         NaN\n",
      "3  50.0  58000.0   0.76    94103             SF         NaN\n",
      "4  38.0      NaN   0.88    73301         Austin         NaN\n",
      "5   NaN      NaN   0.65    12345        Unknown         5.0\n",
      "6  41.0  49000.0   0.79    94105  San Francisco         NaN\n"
     ]
    }
   ],
   "source": [
    "df_medianfill = cleaning.fill_missing_median(df)\n",
    "print(df_medianfill)\n",
    "\n",
    "limitNA = 1 # This variable sets the max number of NAs allowed in any given row\n",
    "df_missing = cleaning.drop_missing(df, limitNA)\n",
    "print(df_missing)\n",
    "\n",
    "df_normal = cleaning.normalize_data(df, ['age','income'])\n",
    "print(df_normal)\n",
    "\n",
    "print(df)\n"
   ]
  },
  {
   "cell_type": "markdown",
   "metadata": {},
   "source": [
    "## Save Cleaned Dataset\n",
    "Cleaned data set is then saved to data/processed/ and stored in a central location"
   ]
  },
  {
   "cell_type": "code",
   "execution_count": 11,
   "metadata": {},
   "outputs": [],
   "source": [
    "df_medianfill.to_csv('../data/processed/sample_data_medianfilled.csv', index=False)\n",
    "df_missing.to_csv('../data/processed/sample_data_missingremoved.csv', index=False)\n",
    "df_normal.to_csv('../data/processed/sample_data_normalized.csv', index=False)"
   ]
  },
  {
   "cell_type": "markdown",
   "metadata": {},
   "source": [
    "## Assumptions "
   ]
  },
  {
   "cell_type": "markdown",
   "metadata": {},
   "source": [
    "- Removing or imputing the data assumes that the data being NA itself is not significant\n",
    "- StandardScaler() assumes that the data is normally distributed, so that would need to be checked first\n",
    "- How much values you drop is also significant, too much values being removed will cause skewed results\n",
    "- Future data sets need to be in the same format"
   ]
  }
 ],
 "metadata": {
  "kernelspec": {
   "display_name": "Python 3 (ipykernel)",
   "language": "python",
   "name": "python3"
  },
  "language_info": {
   "codemirror_mode": {
    "name": "ipython",
    "version": 3
   },
   "file_extension": ".py",
   "mimetype": "text/x-python",
   "name": "python",
   "nbconvert_exporter": "python",
   "pygments_lexer": "ipython3",
   "version": "3.11.13"
  }
 },
 "nbformat": 4,
 "nbformat_minor": 4
}
