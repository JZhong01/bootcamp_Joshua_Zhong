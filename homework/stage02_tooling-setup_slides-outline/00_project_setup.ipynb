{
 "cells": [
  {
   "cell_type": "markdown",
   "id": "6f14f26a-45fa-4200-84d7-e6a2477501d1",
   "metadata": {},
   "source": [
    "# Environment & Config Check"
   ]
  },
  {
   "cell_type": "code",
   "execution_count": 18,
   "id": "fd8ce51d-1f1c-406f-86b5-31391c3efac6",
   "metadata": {},
   "outputs": [
    {
     "name": "stdout",
     "output_type": "stream",
     "text": [
      "True\n",
      "[1 2 3 4 5]\n"
     ]
    }
   ],
   "source": [
    "from dotenv import load_dotenv\n",
    "import sys, os\n",
    "\n",
    "\n",
    "# print(\"Python version:\", sys.version)\n",
    "# print(\"Interpreter path:\", sys.executable)\n",
    "\n",
    "load_dotenv()\n",
    "api_key = os.getenv(\"API_KEY\")\n",
    "\n",
    "\n",
    "print(api_key != None)\n",
    "\n",
    "import numpy as np\n",
    "arr1 = np.array([1,2,3,4,5])\n",
    "print(arr1)\n"
   ]
  },
  {
   "cell_type": "code",
   "execution_count": null,
   "id": "4a6d4286-1c42-4d06-ac20-4c81cb53ff4a",
   "metadata": {},
   "outputs": [],
   "source": []
  },
  {
   "cell_type": "code",
   "execution_count": null,
   "id": "3d4fffdf-378a-450f-8adc-965816b16565",
   "metadata": {},
   "outputs": [],
   "source": []
  }
 ],
 "metadata": {
  "kernelspec": {
   "display_name": "Python 3 (ipykernel)",
   "language": "python",
   "name": "python3"
  },
  "language_info": {
   "codemirror_mode": {
    "name": "ipython",
    "version": 3
   },
   "file_extension": ".py",
   "mimetype": "text/x-python",
   "name": "python",
   "nbconvert_exporter": "python",
   "pygments_lexer": "ipython3",
   "version": "3.11.13"
  }
 },
 "nbformat": 4,
 "nbformat_minor": 5
}
